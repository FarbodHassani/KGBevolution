{
 "cells": [
  {
   "cell_type": "code",
   "execution_count": 1,
   "metadata": {
    "collapsed": false
   },
   "outputs": [],
   "source": [
    "import sys\n",
    "import os\n",
    "sys.path.insert(0,'../')\n",
    "\n",
    "from readgadget import *\n",
    "from pygadgetreader import *\n",
    "from pylab import *\n",
    "import numpy as np\n",
    "\n",
    "import h5py\n",
    "import matplotlib.pylab as plt\n",
    "%matplotlib inline\n",
    "#%matplotlib notebook\n",
    "import matplotlib.pyplot as plt\n",
    "import matplotlib.cm as cm\n",
    "import numpy as np\n",
    "import matplotlib.pylab as plt\n",
    "import matplotlib.animation as animation\n",
    "import subprocess"
   ]
  },
  {
   "cell_type": "code",
   "execution_count": 14,
   "metadata": {
    "collapsed": false
   },
   "outputs": [],
   "source": [
    "n_s = 0\n",
    "n_l = 15\n",
    "im=listofzeros = [0] * 40\n",
    "#,'cdm'\n",
    "snaps=['pi_k']\n",
    "for i in range(13):\n",
    "    f = h5py.File('output/lcdm_snap'+str(i).zfill(3)+'_'+'pi_k'+'.h5', \"r\")\n",
    "    s = np.array(list(f['data']))\n",
    "    im[i]=plt.imshow(s[:,:,1])\n",
    "    plt.savefig('Plots/kess'+str(i)+'_'+str(n_s)+'.jpg')\n",
    "    plt.close()\n",
    "    del f"
   ]
  },
  {
   "cell_type": "code",
   "execution_count": 15,
   "metadata": {
    "collapsed": false
   },
   "outputs": [
    {
     "data": {
      "text/plain": [
       "0"
      ]
     },
     "execution_count": 15,
     "metadata": {},
     "output_type": "execute_result"
    }
   ],
   "source": [
    "import os\n",
    "os.system(\"ffmpeg -f image2 -r 1 -i ./Plots/kess%01d_0.jpg -vcodec mpeg4 -y ./Plots/Movie.mp4\")"
   ]
  },
  {
   "cell_type": "code",
   "execution_count": null,
   "metadata": {
    "collapsed": false
   },
   "outputs": [],
   "source": []
  },
  {
   "cell_type": "code",
   "execution_count": null,
   "metadata": {
    "collapsed": false
   },
   "outputs": [],
   "source": []
  },
  {
   "cell_type": "code",
   "execution_count": null,
   "metadata": {
    "collapsed": true
   },
   "outputs": [],
   "source": []
  }
 ],
 "metadata": {
  "anaconda-cloud": {},
  "kernelspec": {
   "display_name": "Python 2",
   "language": "python",
   "name": "python2"
  },
  "language_info": {
   "codemirror_mode": {
    "name": "ipython",
    "version": 2
   },
   "file_extension": ".py",
   "mimetype": "text/x-python",
   "name": "python",
   "nbconvert_exporter": "python",
   "pygments_lexer": "ipython2",
   "version": "2.7.12"
  }
 },
 "nbformat": 4,
 "nbformat_minor": 1
}
