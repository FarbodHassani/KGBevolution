{
 "cells": [
  {
   "cell_type": "markdown",
   "metadata": {},
   "source": [
    "# Tutorial for gevolution python tools.\n",
    "> __Author:__ Louis Coates"
   ]
  },
  {
   "cell_type": "markdown",
   "metadata": {},
   "source": [
    "\n",
    "This is a small tutorial notebook which will show you how to use the python utility file, to read and analyse the data from gevolution. To run this notebook you will need to run gevolution with the example settings.ini file, and you will need some python modules.\n",
    "\n",
    "You will need:\n",
    " - pyccl:            2.1.0\n",
    " - numpy:            1.19.2\n",
    " - healpy:           1.13.0\n",
    " - struct:           \n",
    " - scipy:            1.5.2\n",
    " - multiprocessing:  \n",
    " - math:\n",
    " - time:\n",
    " - itertools:\n",
    " "
   ]
  },
  {
   "cell_type": "code",
   "execution_count": 19,
   "metadata": {},
   "outputs": [],
   "source": [
    "import pyccl as ccl\n",
    "import numpy as np\n",
    "import healpy as hp\n",
    "import struct as st\n",
    "import scipy.integrate as integrate\n",
    "from multiprocessing import Pool, RawArray\n",
    "import math\n",
    "import time\n",
    "import itertools\n",
    "import os"
   ]
  },
  {
   "cell_type": "markdown",
   "metadata": {},
   "source": [
    "We can then import all functions from the 'python_tools.py' file."
   ]
  },
  {
   "cell_type": "code",
   "execution_count": 16,
   "metadata": {},
   "outputs": [],
   "source": [
    "from python_tools import *"
   ]
  },
  {
   "cell_type": "markdown",
   "metadata": {},
   "source": [
    "First thing we can do is set the path to where you set the output of gevolution for easy access."
   ]
  },
  {
   "cell_type": "code",
   "execution_count": 36,
   "metadata": {},
   "outputs": [
    {
     "name": "stdout",
     "output_type": "stream",
     "text": [
      "lcdm_background.dat\n",
      "lcdm_lightcone0_0116_cdm\n",
      "lcdm_lightcone0_info.bin\n",
      "lcdm_lightcone0_info.dat\n",
      "lcdm_lightcone1_0114_cdm\n",
      "lcdm_lightcone1_0115_cdm\n",
      "lcdm_lightcone1_info.bin\n",
      "lcdm_lightcone1_info.dat\n",
      "lcdm_pk000_B.dat\n",
      "lcdm_pk000_chi.dat\n",
      "lcdm_pk000_hij.dat\n",
      "lcdm_pk000_phi.dat\n",
      "lcdm_pk001_B.dat\n",
      "lcdm_pk001_chi.dat\n",
      "lcdm_pk001_hij.dat\n",
      "lcdm_pk001_phi.dat\n",
      "lcdm_pk002_B.dat\n",
      "lcdm_pk002_chi.dat\n",
      "lcdm_pk002_hij.dat\n",
      "lcdm_pk002_phi.dat\n",
      "lcdm_pk003_B.dat\n",
      "lcdm_pk003_chi.dat\n",
      "lcdm_pk003_hij.dat\n",
      "lcdm_pk003_phi.dat\n",
      "lcdm_pk004_B.dat\n",
      "lcdm_pk004_chi.dat\n",
      "lcdm_pk004_hij.dat\n",
      "lcdm_pk004_phi.dat\n",
      "lcdm_pk005_B.dat\n",
      "lcdm_pk005_chi.dat\n",
      "lcdm_pk005_hij.dat\n",
      "lcdm_pk005_phi.dat\n",
      "lcdm_settings_used.ini\n",
      "lcdm_snap000_B.h5\n",
      "lcdm_snap000_cdm\n",
      "lcdm_snap000_phi.h5\n",
      "lcdm_snap001_B.h5\n",
      "lcdm_snap001_cdm\n",
      "lcdm_snap001_phi.h5\n",
      "lcdm_snap002_B.h5\n",
      "lcdm_snap002_cdm\n",
      "lcdm_snap002_phi.h5\n",
      "lcdm_snap003_B.h5\n",
      "lcdm_snap003_cdm\n",
      "lcdm_snap003_phi.h5\n"
     ]
    }
   ],
   "source": [
    "path = '/home/coates/output2/'\n",
    "\n",
    "for x in os.listdir(path):\n",
    "    print(x)"
   ]
  },
  {
   "cell_type": "code",
   "execution_count": 41,
   "metadata": {},
   "outputs": [
    {
     "data": {
      "text/plain": [
       "{'Nside': 72128,\n",
       " 'Npix': 0,\n",
       " 'precision': 0,\n",
       " 'Ngrid': 0,\n",
       " 'direction': (0.0, -4.640926531962464e-12, 5.351910067e-315),\n",
       " 'distance': 0.0,\n",
       " 'boxsize': 0.0,\n",
       " 'Nside_ring': 0,\n",
       " 'header_size': 865536,\n",
       " 'data_size': 1210663169}"
      ]
     },
     "execution_count": 41,
     "metadata": {},
     "output_type": "execute_result"
    }
   ],
   "source": [
    "f=open(path+'lcdm_lightcone1_0114_cdm','rb')\n",
    "f.seek(4,1)\n",
    "f.seek(4,1)\n",
    "read_header(f)"
   ]
  },
  {
   "cell_type": "code",
   "execution_count": 33,
   "metadata": {},
   "outputs": [
    {
     "ename": "UnboundLocalError",
     "evalue": "local variable 's' referenced before assignment",
     "output_type": "error",
     "traceback": [
      "\u001b[0;31m---------------------------------------------------------------------------\u001b[0m",
      "\u001b[0;31mUnboundLocalError\u001b[0m                         Traceback (most recent call last)",
      "\u001b[0;32m<ipython-input-33-4138cc752916>\u001b[0m in \u001b[0;36m<module>\u001b[0;34m\u001b[0m\n\u001b[0;32m----> 1\u001b[0;31m \u001b[0mhdr\u001b[0m\u001b[0;34m,\u001b[0m\u001b[0mpix\u001b[0m \u001b[0;34m=\u001b[0m \u001b[0mread_map_parallel\u001b[0m\u001b[0;34m(\u001b[0m\u001b[0mpath\u001b[0m\u001b[0;34m+\u001b[0m\u001b[0;34m'lcdm_lightcone1_0114_cdm'\u001b[0m\u001b[0;34m)\u001b[0m\u001b[0;34m\u001b[0m\u001b[0;34m\u001b[0m\u001b[0m\n\u001b[0m",
      "\u001b[0;32m/mnt/c/Users/lcoat/Code/gevolution-dev/python_tools.py\u001b[0m in \u001b[0;36mread_map_parallel\u001b[0;34m(file, header_size, skip, cpus)\u001b[0m\n\u001b[1;32m    319\u001b[0m     \u001b[0;32mif\u001b[0m   \u001b[0mhdr\u001b[0m\u001b[0;34m[\u001b[0m\u001b[0;34m'precision'\u001b[0m\u001b[0;34m]\u001b[0m\u001b[0;34m==\u001b[0m\u001b[0;36m4\u001b[0m\u001b[0;34m:\u001b[0m\u001b[0;34m\u001b[0m\u001b[0;34m\u001b[0m\u001b[0m\n\u001b[1;32m    320\u001b[0m         \u001b[0ms\u001b[0m \u001b[0;34m=\u001b[0m \u001b[0mst\u001b[0m\u001b[0;34m.\u001b[0m\u001b[0mStruct\u001b[0m\u001b[0;34m(\u001b[0m\u001b[0mstr\u001b[0m\u001b[0;34m(\u001b[0m\u001b[0mhdr\u001b[0m\u001b[0;34m[\u001b[0m\u001b[0;34m'Npix'\u001b[0m\u001b[0;34m]\u001b[0m\u001b[0;34m)\u001b[0m\u001b[0;34m+\u001b[0m\u001b[0;34m'f'\u001b[0m\u001b[0;34m)\u001b[0m\u001b[0;34m\u001b[0m\u001b[0;34m\u001b[0m\u001b[0m\n\u001b[0;32m--> 321\u001b[0;31m     \u001b[0;32melif\u001b[0m \u001b[0mhdr\u001b[0m\u001b[0;34m[\u001b[0m\u001b[0;34m'precision'\u001b[0m\u001b[0;34m]\u001b[0m\u001b[0;34m==\u001b[0m\u001b[0;36m8\u001b[0m\u001b[0;34m:\u001b[0m\u001b[0;34m\u001b[0m\u001b[0;34m\u001b[0m\u001b[0m\n\u001b[0m\u001b[1;32m    322\u001b[0m         \u001b[0ms\u001b[0m \u001b[0;34m=\u001b[0m \u001b[0mst\u001b[0m\u001b[0;34m.\u001b[0m\u001b[0mStruct\u001b[0m\u001b[0;34m(\u001b[0m\u001b[0mstr\u001b[0m\u001b[0;34m(\u001b[0m\u001b[0mhdr\u001b[0m\u001b[0;34m[\u001b[0m\u001b[0;34m'Npix'\u001b[0m\u001b[0;34m]\u001b[0m\u001b[0;34m)\u001b[0m\u001b[0;34m+\u001b[0m\u001b[0;34m'd'\u001b[0m\u001b[0;34m)\u001b[0m\u001b[0;34m\u001b[0m\u001b[0;34m\u001b[0m\u001b[0m\n\u001b[1;32m    323\u001b[0m \u001b[0;34m\u001b[0m\u001b[0m\n",
      "\u001b[0;31mUnboundLocalError\u001b[0m: local variable 's' referenced before assignment"
     ]
    }
   ],
   "source": [
    "hdr,pix = read_map_parallel(path+'lcdm_lightcone1_0114_cdm')"
   ]
  },
  {
   "cell_type": "code",
   "execution_count": 34,
   "metadata": {},
   "outputs": [
    {
     "ename": "NameError",
     "evalue": "name 's' is not defined",
     "output_type": "error",
     "traceback": [
      "\u001b[0;31m---------------------------------------------------------------------------\u001b[0m",
      "\u001b[0;31mNameError\u001b[0m                                 Traceback (most recent call last)",
      "\u001b[0;32m<ipython-input-34-ded5ba42480f>\u001b[0m in \u001b[0;36m<module>\u001b[0;34m\u001b[0m\n\u001b[0;32m----> 1\u001b[0;31m \u001b[0ms\u001b[0m\u001b[0;34m\u001b[0m\u001b[0;34m\u001b[0m\u001b[0m\n\u001b[0m",
      "\u001b[0;31mNameError\u001b[0m: name 's' is not defined"
     ]
    }
   ],
   "source": [
    "s"
   ]
  },
  {
   "cell_type": "code",
   "execution_count": 48,
   "metadata": {},
   "outputs": [],
   "source": [
    "def read_headertest(file,header_size = HEADER_SIZE):\n",
    "    f=open(file,'rb')\n",
    "    f.seek(0,1)\n",
    "    s = st.Struct('I I I I ddd d d I 196c I I')\n",
    "    stream=f.read(header_size)\n",
    "    header = {}\n",
    "    header['Nside']       = s.unpack(stream)[0]\n",
    "    header['Npix']        = s.unpack(stream)[1]\n",
    "    header['precision']   = s.unpack(stream)[2]\n",
    "    header['Ngrid']       = s.unpack(stream)[3]\n",
    "    header['direction']   = s.unpack(stream)[4:7]\n",
    "    header['distance']    = s.unpack(stream)[7]\n",
    "    header['boxsize']     = s.unpack(stream)[8]\n",
    "    header['Nside_ring']  = s.unpack(stream)[9]\n",
    "    header['header_size'] = s.unpack(stream)[206]\n",
    "    header['data_size']   = s.unpack(stream)[207]\n",
    "    return header"
   ]
  },
  {
   "cell_type": "code",
   "execution_count": 49,
   "metadata": {},
   "outputs": [
    {
     "data": {
      "text/plain": [
       "{'Nside': 256,\n",
       " 'Npix': 0,\n",
       " 'precision': 72128,\n",
       " 'Ngrid': 0,\n",
       " 'direction': (0.0, 0.0, -4.640926531962464e-12),\n",
       " 'distance': 5.351910067e-315,\n",
       " 'boxsize': 0.0,\n",
       " 'Nside_ring': 0,\n",
       " 'header_size': 0,\n",
       " 'data_size': 256}"
      ]
     },
     "execution_count": 49,
     "metadata": {},
     "output_type": "execute_result"
    }
   ],
   "source": [
    "read_headertest(path+'lcdm_lightcone1_0114_cdm')"
   ]
  },
  {
   "cell_type": "code",
   "execution_count": null,
   "metadata": {},
   "outputs": [],
   "source": []
  }
 ],
 "metadata": {
  "kernelspec": {
   "display_name": "Python 3",
   "language": "python",
   "name": "python3"
  },
  "language_info": {
   "codemirror_mode": {
    "name": "ipython",
    "version": 3
   },
   "file_extension": ".py",
   "mimetype": "text/x-python",
   "name": "python",
   "nbconvert_exporter": "python",
   "pygments_lexer": "ipython3",
   "version": "3.7.6"
  }
 },
 "nbformat": 4,
 "nbformat_minor": 4
}
